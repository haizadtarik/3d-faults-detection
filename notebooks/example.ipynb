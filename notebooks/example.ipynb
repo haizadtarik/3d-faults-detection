{
 "cells": [
  {
   "cell_type": "code",
   "execution_count": null,
   "metadata": {},
   "outputs": [],
   "source": [
    "import sys\n",
    "sys.path.append('..')\n",
    "from faultspicker.data_loader import SeismicData\n",
    "from faultspicker.picker import FaultsPicker  \n",
    "import matplotlib.pyplot as plt\n",
    "import numpy as np\n",
    "import torch"
   ]
  },
  {
   "cell_type": "markdown",
   "metadata": {},
   "source": [
    "# Run training on sample data"
   ]
  },
  {
   "cell_type": "code",
   "execution_count": null,
   "metadata": {},
   "outputs": [],
   "source": [
    "seismic_data_loader = SeismicData()\n",
    "train_seismic_dir = '../data/train/seis'\n",
    "train_faults_dir = '../data/train/fault'\n",
    "train_dataset = seismic_data_loader.load_dataset(train_seismic_dir, train_faults_dir)\n",
    "\n",
    "val_seismic_dir = '../data/validation/seis'\n",
    "val_faults_dir = '../data/validation/fault'\n",
    "val_dataset = seismic_data_loader.load_dataset(val_seismic_dir, val_faults_dir)"
   ]
  },
  {
   "cell_type": "code",
   "execution_count": null,
   "metadata": {},
   "outputs": [],
   "source": [
    "picker = FaultsPicker()\n",
    "picker.train(train_dataset, val_dataset)"
   ]
  },
  {
   "cell_type": "markdown",
   "metadata": {},
   "source": [
    "# Run inference on validation data"
   ]
  },
  {
   "cell_type": "code",
   "execution_count": null,
   "metadata": {},
   "outputs": [],
   "source": [
    "seismic_path = '../data/validation/seis/2.dat'\n",
    "seismic_data = seismic_data_loader.load_dat(seismic_path)"
   ]
  },
  {
   "cell_type": "code",
   "execution_count": null,
   "metadata": {},
   "outputs": [],
   "source": [
    "prediction = picker.predict(seismic_data)"
   ]
  },
  {
   "cell_type": "code",
   "execution_count": null,
   "metadata": {},
   "outputs": [],
   "source": [
    "# Plotting\n",
    "fig = plt.figure(figsize=(20,20))\n",
    "\n",
    "# Time slice\n",
    "k1 = 50\n",
    "plt.subplot(1, 6, 1)\n",
    "plt.imshow(seismic_data[0,0,k1,:,:], cmap=plt.cm.bone, interpolation='nearest', aspect=1)\n",
    "plt.title('Input - Time Slice')\n",
    "plt.subplot(1, 6, 2)\n",
    "plt.imshow(prediction[k1,:,:], cmap=plt.cm.bone, interpolation='nearest', aspect=1)\n",
    "plt.title('Prediction - Time Slice')\n",
    "\n",
    "# Inline slice\n",
    "k2 = 110\n",
    "plt.subplot(1, 6, 3)\n",
    "plt.imshow(seismic_data[0,0,:,k2,:], cmap=plt.cm.bone, interpolation='nearest', aspect=1)\n",
    "plt.title('Input - Inline Slice')\n",
    "plt.subplot(1, 6, 4)\n",
    "plt.imshow(prediction[:,k2,:], cmap=plt.cm.bone, interpolation='nearest', aspect=1)\n",
    "plt.title('Prediction - Inline Slice')\n",
    "\n",
    "# Xline slice\n",
    "k3 = 10\n",
    "plt.subplot(1, 6, 5)\n",
    "plt.imshow(seismic_data[0,0,:,:,k3], cmap=plt.cm.bone, interpolation='nearest', aspect=1)\n",
    "plt.title('Input - Xline Slice')\n",
    "plt.subplot(1, 6, 6)\n",
    "plt.imshow(prediction[:,:,k3], cmap=plt.cm.bone, interpolation='nearest', aspect=1)\n",
    "plt.title('Prediction - Xline Slice')\n",
    "\n",
    "plt.tight_layout()\n",
    "plt.show()"
   ]
  }
 ],
 "metadata": {
  "kernelspec": {
   "display_name": "geohack",
   "language": "python",
   "name": "python3"
  },
  "language_info": {
   "codemirror_mode": {
    "name": "ipython",
    "version": 3
   },
   "file_extension": ".py",
   "mimetype": "text/x-python",
   "name": "python",
   "nbconvert_exporter": "python",
   "pygments_lexer": "ipython3",
   "version": "3.10.15"
  }
 },
 "nbformat": 4,
 "nbformat_minor": 2
}
